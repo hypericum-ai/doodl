{
 "cells": [
  {
   "cell_type": "markdown",
   "id": "3a7705fe-91a3-44c7-b7e2-2263cd636741",
   "metadata": {},
   "source": [
    "Here's an example Sankey diagram from Plotly:"
   ]
  },
  {
   "cell_type": "code",
   "execution_count": 1,
   "id": "0c238073-0395-440b-b067-b73af67d61da",
   "metadata": {},
   "outputs": [
    {
     "name": "stdout",
     "output_type": "stream",
     "text": [
      "\u001b[1;31merror\u001b[0m: \u001b[1muninstall-no-record-file\u001b[0m\n",
      "\n",
      "\u001b[31m×\u001b[0m Cannot uninstall wcwidth 0.2.13\n",
      "\u001b[31m╰─>\u001b[0m The package's contents are unknown: no RECORD file was found for wcwidth.\n",
      "\n",
      "\u001b[1;36mhint\u001b[0m: The package was installed by brew. You should check if it can uninstall the package.\n",
      "Note: you may need to restart the kernel to use updated packages.\n"
     ]
    }
   ],
   "source": [
    "%pip install --quiet plotly --upgrade --force-reinstall doodl"
   ]
  },
  {
   "cell_type": "code",
   "execution_count": 2,
   "id": "42de4f1d-a83d-4050-a33c-72d17360bc21",
   "metadata": {},
   "outputs": [
    {
     "name": "stdout",
     "output_type": "stream",
     "text": [
      "Name: doodl\n",
      "Version: 0.7.3\n",
      "Summary: A python module for including beautiful charts in Markdown for conversion to HTML\n",
      "Home-page: \n",
      "Author: \n",
      "Author-email: \"doodl.ai\" <info@doodl.ai>\n",
      "License: \n",
      "Location: /opt/homebrew/Cellar/jupyterlab/4.4.4/libexec/lib/python3.13/site-packages\n",
      "Requires: beautifulsoup4, colorcet, ipython, playwright, pypandoc, requests, seaborn\n",
      "Required-by: \n",
      "Note: you may need to restart the kernel to use updated packages.\n"
     ]
    }
   ],
   "source": [
    "%pip show doodl"
   ]
  },
  {
   "cell_type": "code",
   "execution_count": 3,
   "id": "4a0ed6b6-2441-48c7-b43c-f0c1a4809efb",
   "metadata": {},
   "outputs": [
    {
     "data": {
      "application/vnd.plotly.v1+json": {
       "config": {
        "plotlyServerURL": "https://plot.ly"
       },
       "data": [
        {
         "link": {
          "source": [
           0,
           1,
           1,
           5,
           2,
           3,
           2,
           2,
           4,
           10,
           8,
           3
          ],
          "target": [
           1,
           2,
           5,
           6,
           4,
           4,
           10,
           3,
           7,
           8,
           9,
           10
          ],
          "value": [
           182024,
           167890,
           13446,
           12780,
           25719,
           11128,
           98128,
           49731,
           36517,
           136522,
           12659,
           35510
          ]
         },
         "node": {
          "label": [
           "Box Received",
           "Sent for Pricing",
           "Box Priced",
           "Offer Communicated",
           "Offer Rejected",
           "No Offer",
           "No Offer Returned",
           "Box Returned",
           "Box Bought",
           "Abandoned",
           "Offer Accepted"
          ]
         },
         "type": "sankey"
        }
       ],
       "layout": {
        "template": {
         "data": {
          "bar": [
           {
            "error_x": {
             "color": "#2a3f5f"
            },
            "error_y": {
             "color": "#2a3f5f"
            },
            "marker": {
             "line": {
              "color": "#E5ECF6",
              "width": 0.5
             },
             "pattern": {
              "fillmode": "overlay",
              "size": 10,
              "solidity": 0.2
             }
            },
            "type": "bar"
           }
          ],
          "barpolar": [
           {
            "marker": {
             "line": {
              "color": "#E5ECF6",
              "width": 0.5
             },
             "pattern": {
              "fillmode": "overlay",
              "size": 10,
              "solidity": 0.2
             }
            },
            "type": "barpolar"
           }
          ],
          "carpet": [
           {
            "aaxis": {
             "endlinecolor": "#2a3f5f",
             "gridcolor": "white",
             "linecolor": "white",
             "minorgridcolor": "white",
             "startlinecolor": "#2a3f5f"
            },
            "baxis": {
             "endlinecolor": "#2a3f5f",
             "gridcolor": "white",
             "linecolor": "white",
             "minorgridcolor": "white",
             "startlinecolor": "#2a3f5f"
            },
            "type": "carpet"
           }
          ],
          "choropleth": [
           {
            "colorbar": {
             "outlinewidth": 0,
             "ticks": ""
            },
            "type": "choropleth"
           }
          ],
          "contour": [
           {
            "colorbar": {
             "outlinewidth": 0,
             "ticks": ""
            },
            "colorscale": [
             [
              0,
              "#0d0887"
             ],
             [
              0.1111111111111111,
              "#46039f"
             ],
             [
              0.2222222222222222,
              "#7201a8"
             ],
             [
              0.3333333333333333,
              "#9c179e"
             ],
             [
              0.4444444444444444,
              "#bd3786"
             ],
             [
              0.5555555555555556,
              "#d8576b"
             ],
             [
              0.6666666666666666,
              "#ed7953"
             ],
             [
              0.7777777777777778,
              "#fb9f3a"
             ],
             [
              0.8888888888888888,
              "#fdca26"
             ],
             [
              1,
              "#f0f921"
             ]
            ],
            "type": "contour"
           }
          ],
          "contourcarpet": [
           {
            "colorbar": {
             "outlinewidth": 0,
             "ticks": ""
            },
            "type": "contourcarpet"
           }
          ],
          "heatmap": [
           {
            "colorbar": {
             "outlinewidth": 0,
             "ticks": ""
            },
            "colorscale": [
             [
              0,
              "#0d0887"
             ],
             [
              0.1111111111111111,
              "#46039f"
             ],
             [
              0.2222222222222222,
              "#7201a8"
             ],
             [
              0.3333333333333333,
              "#9c179e"
             ],
             [
              0.4444444444444444,
              "#bd3786"
             ],
             [
              0.5555555555555556,
              "#d8576b"
             ],
             [
              0.6666666666666666,
              "#ed7953"
             ],
             [
              0.7777777777777778,
              "#fb9f3a"
             ],
             [
              0.8888888888888888,
              "#fdca26"
             ],
             [
              1,
              "#f0f921"
             ]
            ],
            "type": "heatmap"
           }
          ],
          "histogram": [
           {
            "marker": {
             "pattern": {
              "fillmode": "overlay",
              "size": 10,
              "solidity": 0.2
             }
            },
            "type": "histogram"
           }
          ],
          "histogram2d": [
           {
            "colorbar": {
             "outlinewidth": 0,
             "ticks": ""
            },
            "colorscale": [
             [
              0,
              "#0d0887"
             ],
             [
              0.1111111111111111,
              "#46039f"
             ],
             [
              0.2222222222222222,
              "#7201a8"
             ],
             [
              0.3333333333333333,
              "#9c179e"
             ],
             [
              0.4444444444444444,
              "#bd3786"
             ],
             [
              0.5555555555555556,
              "#d8576b"
             ],
             [
              0.6666666666666666,
              "#ed7953"
             ],
             [
              0.7777777777777778,
              "#fb9f3a"
             ],
             [
              0.8888888888888888,
              "#fdca26"
             ],
             [
              1,
              "#f0f921"
             ]
            ],
            "type": "histogram2d"
           }
          ],
          "histogram2dcontour": [
           {
            "colorbar": {
             "outlinewidth": 0,
             "ticks": ""
            },
            "colorscale": [
             [
              0,
              "#0d0887"
             ],
             [
              0.1111111111111111,
              "#46039f"
             ],
             [
              0.2222222222222222,
              "#7201a8"
             ],
             [
              0.3333333333333333,
              "#9c179e"
             ],
             [
              0.4444444444444444,
              "#bd3786"
             ],
             [
              0.5555555555555556,
              "#d8576b"
             ],
             [
              0.6666666666666666,
              "#ed7953"
             ],
             [
              0.7777777777777778,
              "#fb9f3a"
             ],
             [
              0.8888888888888888,
              "#fdca26"
             ],
             [
              1,
              "#f0f921"
             ]
            ],
            "type": "histogram2dcontour"
           }
          ],
          "mesh3d": [
           {
            "colorbar": {
             "outlinewidth": 0,
             "ticks": ""
            },
            "type": "mesh3d"
           }
          ],
          "parcoords": [
           {
            "line": {
             "colorbar": {
              "outlinewidth": 0,
              "ticks": ""
             }
            },
            "type": "parcoords"
           }
          ],
          "pie": [
           {
            "automargin": true,
            "type": "pie"
           }
          ],
          "scatter": [
           {
            "fillpattern": {
             "fillmode": "overlay",
             "size": 10,
             "solidity": 0.2
            },
            "type": "scatter"
           }
          ],
          "scatter3d": [
           {
            "line": {
             "colorbar": {
              "outlinewidth": 0,
              "ticks": ""
             }
            },
            "marker": {
             "colorbar": {
              "outlinewidth": 0,
              "ticks": ""
             }
            },
            "type": "scatter3d"
           }
          ],
          "scattercarpet": [
           {
            "marker": {
             "colorbar": {
              "outlinewidth": 0,
              "ticks": ""
             }
            },
            "type": "scattercarpet"
           }
          ],
          "scattergeo": [
           {
            "marker": {
             "colorbar": {
              "outlinewidth": 0,
              "ticks": ""
             }
            },
            "type": "scattergeo"
           }
          ],
          "scattergl": [
           {
            "marker": {
             "colorbar": {
              "outlinewidth": 0,
              "ticks": ""
             }
            },
            "type": "scattergl"
           }
          ],
          "scattermap": [
           {
            "marker": {
             "colorbar": {
              "outlinewidth": 0,
              "ticks": ""
             }
            },
            "type": "scattermap"
           }
          ],
          "scattermapbox": [
           {
            "marker": {
             "colorbar": {
              "outlinewidth": 0,
              "ticks": ""
             }
            },
            "type": "scattermapbox"
           }
          ],
          "scatterpolar": [
           {
            "marker": {
             "colorbar": {
              "outlinewidth": 0,
              "ticks": ""
             }
            },
            "type": "scatterpolar"
           }
          ],
          "scatterpolargl": [
           {
            "marker": {
             "colorbar": {
              "outlinewidth": 0,
              "ticks": ""
             }
            },
            "type": "scatterpolargl"
           }
          ],
          "scatterternary": [
           {
            "marker": {
             "colorbar": {
              "outlinewidth": 0,
              "ticks": ""
             }
            },
            "type": "scatterternary"
           }
          ],
          "surface": [
           {
            "colorbar": {
             "outlinewidth": 0,
             "ticks": ""
            },
            "colorscale": [
             [
              0,
              "#0d0887"
             ],
             [
              0.1111111111111111,
              "#46039f"
             ],
             [
              0.2222222222222222,
              "#7201a8"
             ],
             [
              0.3333333333333333,
              "#9c179e"
             ],
             [
              0.4444444444444444,
              "#bd3786"
             ],
             [
              0.5555555555555556,
              "#d8576b"
             ],
             [
              0.6666666666666666,
              "#ed7953"
             ],
             [
              0.7777777777777778,
              "#fb9f3a"
             ],
             [
              0.8888888888888888,
              "#fdca26"
             ],
             [
              1,
              "#f0f921"
             ]
            ],
            "type": "surface"
           }
          ],
          "table": [
           {
            "cells": {
             "fill": {
              "color": "#EBF0F8"
             },
             "line": {
              "color": "white"
             }
            },
            "header": {
             "fill": {
              "color": "#C8D4E3"
             },
             "line": {
              "color": "white"
             }
            },
            "type": "table"
           }
          ]
         },
         "layout": {
          "annotationdefaults": {
           "arrowcolor": "#2a3f5f",
           "arrowhead": 0,
           "arrowwidth": 1
          },
          "autotypenumbers": "strict",
          "coloraxis": {
           "colorbar": {
            "outlinewidth": 0,
            "ticks": ""
           }
          },
          "colorscale": {
           "diverging": [
            [
             0,
             "#8e0152"
            ],
            [
             0.1,
             "#c51b7d"
            ],
            [
             0.2,
             "#de77ae"
            ],
            [
             0.3,
             "#f1b6da"
            ],
            [
             0.4,
             "#fde0ef"
            ],
            [
             0.5,
             "#f7f7f7"
            ],
            [
             0.6,
             "#e6f5d0"
            ],
            [
             0.7,
             "#b8e186"
            ],
            [
             0.8,
             "#7fbc41"
            ],
            [
             0.9,
             "#4d9221"
            ],
            [
             1,
             "#276419"
            ]
           ],
           "sequential": [
            [
             0,
             "#0d0887"
            ],
            [
             0.1111111111111111,
             "#46039f"
            ],
            [
             0.2222222222222222,
             "#7201a8"
            ],
            [
             0.3333333333333333,
             "#9c179e"
            ],
            [
             0.4444444444444444,
             "#bd3786"
            ],
            [
             0.5555555555555556,
             "#d8576b"
            ],
            [
             0.6666666666666666,
             "#ed7953"
            ],
            [
             0.7777777777777778,
             "#fb9f3a"
            ],
            [
             0.8888888888888888,
             "#fdca26"
            ],
            [
             1,
             "#f0f921"
            ]
           ],
           "sequentialminus": [
            [
             0,
             "#0d0887"
            ],
            [
             0.1111111111111111,
             "#46039f"
            ],
            [
             0.2222222222222222,
             "#7201a8"
            ],
            [
             0.3333333333333333,
             "#9c179e"
            ],
            [
             0.4444444444444444,
             "#bd3786"
            ],
            [
             0.5555555555555556,
             "#d8576b"
            ],
            [
             0.6666666666666666,
             "#ed7953"
            ],
            [
             0.7777777777777778,
             "#fb9f3a"
            ],
            [
             0.8888888888888888,
             "#fdca26"
            ],
            [
             1,
             "#f0f921"
            ]
           ]
          },
          "colorway": [
           "#636efa",
           "#EF553B",
           "#00cc96",
           "#ab63fa",
           "#FFA15A",
           "#19d3f3",
           "#FF6692",
           "#B6E880",
           "#FF97FF",
           "#FECB52"
          ],
          "font": {
           "color": "#2a3f5f"
          },
          "geo": {
           "bgcolor": "white",
           "lakecolor": "white",
           "landcolor": "#E5ECF6",
           "showlakes": true,
           "showland": true,
           "subunitcolor": "white"
          },
          "hoverlabel": {
           "align": "left"
          },
          "hovermode": "closest",
          "mapbox": {
           "style": "light"
          },
          "paper_bgcolor": "white",
          "plot_bgcolor": "#E5ECF6",
          "polar": {
           "angularaxis": {
            "gridcolor": "white",
            "linecolor": "white",
            "ticks": ""
           },
           "bgcolor": "#E5ECF6",
           "radialaxis": {
            "gridcolor": "white",
            "linecolor": "white",
            "ticks": ""
           }
          },
          "scene": {
           "xaxis": {
            "backgroundcolor": "#E5ECF6",
            "gridcolor": "white",
            "gridwidth": 2,
            "linecolor": "white",
            "showbackground": true,
            "ticks": "",
            "zerolinecolor": "white"
           },
           "yaxis": {
            "backgroundcolor": "#E5ECF6",
            "gridcolor": "white",
            "gridwidth": 2,
            "linecolor": "white",
            "showbackground": true,
            "ticks": "",
            "zerolinecolor": "white"
           },
           "zaxis": {
            "backgroundcolor": "#E5ECF6",
            "gridcolor": "white",
            "gridwidth": 2,
            "linecolor": "white",
            "showbackground": true,
            "ticks": "",
            "zerolinecolor": "white"
           }
          },
          "shapedefaults": {
           "line": {
            "color": "#2a3f5f"
           }
          },
          "ternary": {
           "aaxis": {
            "gridcolor": "white",
            "linecolor": "white",
            "ticks": ""
           },
           "baxis": {
            "gridcolor": "white",
            "linecolor": "white",
            "ticks": ""
           },
           "bgcolor": "#E5ECF6",
           "caxis": {
            "gridcolor": "white",
            "linecolor": "white",
            "ticks": ""
           }
          },
          "title": {
           "x": 0.05
          },
          "xaxis": {
           "automargin": true,
           "gridcolor": "white",
           "linecolor": "white",
           "ticks": "",
           "title": {
            "standoff": 15
           },
           "zerolinecolor": "white",
           "zerolinewidth": 2
          },
          "yaxis": {
           "automargin": true,
           "gridcolor": "white",
           "linecolor": "white",
           "ticks": "",
           "title": {
            "standoff": 15
           },
           "zerolinecolor": "white",
           "zerolinewidth": 2
          }
         }
        }
       }
      },
      "image/png": "[encoded data removed]"
     },
     "metadata": {},
     "output_type": "display_data"
    }
   ],
   "source": [
    "import plotly.graph_objects as go\n",
    "import json\n",
    "\n",
    "with open('std_focus.json') as fp:\n",
    "    data = json.load(fp)\n",
    "\n",
    "nodes = {}\n",
    "\n",
    "for ix, node in enumerate(data['nodes']):\n",
    "    node['index'] = ix\n",
    "    nodes[node['name']] = node\n",
    "\n",
    "fig = go.Figure(go.Sankey(\n",
    "    node=dict(label=[\n",
    "        node['name'] for node in data['nodes']\n",
    "    ]),\n",
    "    link=dict(\n",
    "        source=[\n",
    "            nodes[link['source']]['index']\n",
    "            for link in data['links']\n",
    "        ],\n",
    "        target=[\n",
    "            nodes[link['target']]['index']\n",
    "            for link in data['links']\n",
    "        ],\n",
    "        value=[\n",
    "            link['value']\n",
    "            for link in data['links']\n",
    "        ]\n",
    "    )\n",
    "))\n",
    "\n",
    "fig.show()"
   ]
  },
  {
   "cell_type": "markdown",
   "id": "dff238d4-f9d3-4b36-a24e-5be82595e6fd",
   "metadata": {},
   "source": [
    "Here's the doodl equivalent, from a file:"
   ]
  },
  {
   "cell_type": "code",
   "execution_count": 4,
   "id": "4ce81600-3597-4d98-a67a-aaf86347bc38",
   "metadata": {},
   "outputs": [
    {
     "data": {
      "text/html": [
       "\n",
       "<p><span class=\"chart-container\" id=\"skey_0\"></span></p>\n",
       "<script src=\"https://cdn.jsdelivr.net/gh/hypericum-ai/doodl@main/doodl/ts/dist/doodlchart.min.js\"></script>\n",
       "<link rel=\"stylesheet\" href=\"https://cdn.jsdelivr.net/gh/hypericum-ai/doodl@main/doodl/css/menu.css\" />\n",
       "<link rel=\"stylesheet\" href=\"https://cdn.jsdelivr.net/gh/hypericum-ai/doodl@main/doodl/css/doodlCharts.css\" />\n",
       "<script type=\"text/javascript\">\n",
       "            Doodl.skey(\"#skey_0\",\n",
       "                [],\n",
       "                {\"width\": 1000, \"height\": 500},\n",
       "                {\"path\": \"std_focus.json\", \"format\": \"json\"},\n",
       "                [\"#A1C9F4\", \"#FFB482\", \"#8DE5A1\", \"#FF9F9B\", \"#D0BBFF\", \"#DEBB9B\", \"#FAB0E4\", \"#CFCFCF\", \"#FFFEA3\", \"#B9F2F0\"],\n",
       "                \"source-target\",\n",
       "                \"left\"\n",
       "            );\n",
       "</script>\n"
      ],
      "text/plain": [
       "<IPython.core.display.HTML object>"
      ]
     },
     "metadata": {},
     "output_type": "display_data"
    }
   ],
   "source": [
    "import doodl\n",
    "\n",
    "doodl.skey(file={\n",
    "        \"path\": 'std_focus.json',\n",
    "        \"format\": 'json'\n",
    "    },\n",
    "    colors='pastel',\n",
    "    size={\"width\":1000,\"height\":500}\n",
    ")"
   ]
  },
  {
   "cell_type": "markdown",
   "id": "d3886e75-f557-4e59-aba1-b363ec10569b",
   "metadata": {},
   "source": [
    "And here's one from inline data:"
   ]
  },
  {
   "cell_type": "code",
   "execution_count": 5,
   "id": "62a83286-42da-4eed-900d-bb5c94fab69c",
   "metadata": {},
   "outputs": [
    {
     "data": {
      "text/html": [
       "\n",
       "<p><span class=\"chart-container\" id=\"skey_1\"></span></p>\n",
       "<script src=\"https://cdn.jsdelivr.net/gh/hypericum-ai/doodl@main/doodl/ts/dist/doodlchart.min.js\"></script>\n",
       "<link rel=\"stylesheet\" href=\"https://cdn.jsdelivr.net/gh/hypericum-ai/doodl@main/doodl/css/menu.css\" />\n",
       "<link rel=\"stylesheet\" href=\"https://cdn.jsdelivr.net/gh/hypericum-ai/doodl@main/doodl/css/doodlCharts.css\" />\n",
       "<script type=\"text/javascript\">\n",
       "            Doodl.skey(\"#skey_1\",\n",
       "                {\"nodes\": [{\"name\": \"Box Received\", \"width\": 195353}, {\"name\": \"Sent for Pricing\", \"width\": 182353}, {\"name\": \"Box Priced\", \"width\": 180803}, {\"name\": \"Offer Communicated\", \"width\": 51789}, {\"name\": \"Offer Rejected\", \"width\": 39848}, {\"name\": \"No Offer\", \"width\": 15392}, {\"name\": \"No Offer Returned\", \"width\": 12861}, {\"name\": \"Box Returned\", \"width\": 38803}, {\"name\": \"Box Bought\", \"width\": 180243}, {\"name\": \"Abandoned\", \"width\": 75289}, {\"name\": \"Offer Accepted\", \"width\": 139401}], \"links\": [{\"source\": \"Box Received\", \"target\": \"Sent for Pricing\", \"value\": 182024}, {\"source\": \"Sent for Pricing\", \"target\": \"Box Priced\", \"value\": 167890}, {\"source\": \"Sent for Pricing\", \"target\": \"No Offer\", \"value\": 13446}, {\"source\": \"No Offer\", \"target\": \"No Offer Returned\", \"value\": 12780}, {\"source\": \"Box Priced\", \"target\": \"Offer Rejected\", \"value\": 25719}, {\"source\": \"Offer Communicated\", \"target\": \"Offer Rejected\", \"value\": 11128}, {\"source\": \"Box Priced\", \"target\": \"Offer Accepted\", \"value\": 98128}, {\"source\": \"Box Priced\", \"target\": \"Offer Communicated\", \"value\": 49731}, {\"source\": \"Offer Rejected\", \"target\": \"Box Returned\", \"value\": 36517}, {\"source\": \"Offer Accepted\", \"target\": \"Box Bought\", \"value\": 136522}, {\"source\": \"Box Bought\", \"target\": \"Abandoned\", \"value\": 12659}, {\"source\": \"Offer Communicated\", \"target\": \"Offer Accepted\", \"value\": 35510}]},\n",
       "                {\"width\": 1000, \"height\": 500},\n",
       "                {},\n",
       "                [\"#D60000\", \"#8C3BFF\", \"#018700\", \"#00ACC6\", \"#97FF00\", \"#FF7ED1\", \"#6B004F\", \"#FFA52F\", \"#573B00\", \"#005659\"],\n",
       "                \"source-target\",\n",
       "                \"left\"\n",
       "            );\n",
       "</script>\n"
      ],
      "text/plain": [
       "<IPython.core.display.HTML object>"
      ]
     },
     "metadata": {},
     "output_type": "display_data"
    }
   ],
   "source": [
    "import doodl\n",
    "import json\n",
    "\n",
    "data = {\n",
    "  \"nodes\": [\n",
    "    {\n",
    "      \"name\": \"Box Received\",\n",
    "      \"width\": 195353\n",
    "    },\n",
    "    {\n",
    "      \"name\": \"Sent for Pricing\",\n",
    "      \"width\": 182353\n",
    "    },\n",
    "    {\n",
    "      \"name\": \"Box Priced\",\n",
    "      \"width\": 180803\n",
    "    },\n",
    "    {\n",
    "      \"name\": \"Offer Communicated\",\n",
    "      \"width\": 51789\n",
    "    },\n",
    "    {\n",
    "      \"name\": \"Offer Rejected\",\n",
    "      \"width\": 39848\n",
    "    },\n",
    "    {\n",
    "      \"name\": \"No Offer\",\n",
    "      \"width\": 15392\n",
    "    },\n",
    "    {\n",
    "      \"name\": \"No Offer Returned\",\n",
    "      \"width\": 12861\n",
    "    },\n",
    "    {\n",
    "      \"name\": \"Box Returned\",\n",
    "      \"width\": 38803\n",
    "    },\n",
    "    {\n",
    "      \"name\": \"Box Bought\",\n",
    "      \"width\": 180243\n",
    "    },\n",
    "    {\n",
    "      \"name\": \"Abandoned\",\n",
    "      \"width\": 75289\n",
    "    },\n",
    "    {\n",
    "      \"name\": \"Offer Accepted\",\n",
    "      \"width\": 139401\n",
    "    }\n",
    "  ],\n",
    "  \"links\": [\n",
    "    {\n",
    "      \"source\": \"Box Received\",\n",
    "      \"target\": \"Sent for Pricing\",\n",
    "      \"value\": 182024\n",
    "    },\n",
    "    {\n",
    "      \"source\": \"Sent for Pricing\",\n",
    "      \"target\": \"Box Priced\",\n",
    "      \"value\": 167890\n",
    "    },\n",
    "    {\n",
    "      \"source\": \"Sent for Pricing\",\n",
    "      \"target\": \"No Offer\",\n",
    "      \"value\": 13446\n",
    "    },\n",
    "    {\n",
    "      \"source\": \"No Offer\",\n",
    "      \"target\": \"No Offer Returned\",\n",
    "      \"value\": 12780\n",
    "    },\n",
    "    {\n",
    "      \"source\": \"Box Priced\",\n",
    "      \"target\": \"Offer Rejected\",\n",
    "      \"value\": 25719\n",
    "    },\n",
    "    {\n",
    "      \"source\": \"Offer Communicated\",\n",
    "      \"target\": \"Offer Rejected\",\n",
    "      \"value\": 11128\n",
    "    },\n",
    "    {\n",
    "      \"source\": \"Box Priced\",\n",
    "      \"target\": \"Offer Accepted\",\n",
    "      \"value\": 98128\n",
    "    },\n",
    "    {\n",
    "      \"source\": \"Box Priced\",\n",
    "      \"target\": \"Offer Communicated\",\n",
    "      \"value\": 49731\n",
    "    },\n",
    "    {\n",
    "      \"source\": \"Offer Rejected\",\n",
    "      \"target\": \"Box Returned\",\n",
    "      \"value\": 36517\n",
    "    },\n",
    "    {\n",
    "      \"source\": \"Offer Accepted\",\n",
    "      \"target\": \"Box Bought\",\n",
    "      \"value\": 136522\n",
    "    },\n",
    "    {\n",
    "      \"source\": \"Box Bought\",\n",
    "      \"target\": \"Abandoned\",\n",
    "      \"value\": 12659\n",
    "    },\n",
    "    {\n",
    "      \"source\": \"Offer Communicated\",\n",
    "      \"target\": \"Offer Accepted\",\n",
    "      \"value\": 35510\n",
    "    }\n",
    "  ]\n",
    "}\n",
    "\n",
    "\n",
    "doodl.skey(data=data,\n",
    "    colors='cc.glasbey',\n",
    "    size={\"width\":1000,\"height\":500}\n",
    ")"
   ]
  },
  {
   "cell_type": "code",
   "execution_count": null,
   "id": "c9ab3037-512c-4e94-ae88-8e35a338d9fd",
   "metadata": {},
   "outputs": [],
   "source": []
  }
 ],
 "metadata": {
  "kernelspec": {
   "display_name": "Python 3 (ipykernel)",
   "language": "python",
   "name": "python3"
  },
  "language_info": {
   "codemirror_mode": {
    "name": "ipython",
    "version": 3
   },
   "file_extension": ".py",
   "mimetype": "text/x-python",
   "name": "python",
   "nbconvert_exporter": "python",
   "pygments_lexer": "ipython3",
   "version": "3.13.5"
  }
 },
 "nbformat": 4,
 "nbformat_minor": 5
}
