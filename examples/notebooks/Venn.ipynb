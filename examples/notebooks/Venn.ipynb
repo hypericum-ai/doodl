{
 "cells": [
  {
   "cell_type": "code",
   "execution_count": 4,
   "id": "f925fa1b-b9c6-49ed-8eac-c43e62345cd5",
   "metadata": {},
   "outputs": [
    {
     "name": "stdout",
     "output_type": "stream",
     "text": [
      "Note: you may need to restart the kernel to use updated packages.\n"
     ]
    }
   ],
   "source": [
    "%pip install --quiet --upgrade ../../doodl"
   ]
  },
  {
   "cell_type": "code",
   "execution_count": 5,
   "id": "41a5b1ca-6b4a-49f2-811b-1566989533f8",
   "metadata": {},
   "outputs": [
    {
     "data": {
      "text/html": [
       "\n",
       "<p><span class=\"doodl-chart\" id=\"vennchart_2\"></span></p>\n",
       "<script src=\"https://doodl.ai/assets/doodl/js/doodlchart.min.js\"></script>\n",
       "<link rel=\"stylesheet\" href=\"https://doodl.ai/assets/doodl/css/doodl.css\" />\n",
       "<script type=\"text/javascript\">\n",
       "            Doodl.vennchart(\"#vennchart_2\",\n",
       "                [{\"size\": 12, \"sets\": [\"A\"]}, {\"size\": 12, \"sets\": [\"B\"]}, {\"size\": 12, \"sets\": [\"C\"]}, {\"size\": 2, \"sets\": [\"A\", \"B\"]}, {\"size\": 3, \"sets\": [\"A\", \"C\"]}, {\"size\": 4, \"sets\": [\"B\", \"C\"]}, {\"size\": 1, \"sets\": [\"A\", \"B\", \"C\"]}],\n",
       "                {\"width\": 300, \"height\": 300},\n",
       "                {},\n",
       "                [\"#A1C9F4\", \"#FFB482\", \"#8DE5A1\", \"#FF9F9B\", \"#D0BBFF\", \"#DEBB9B\", \"#FAB0E4\", \"#CFCFCF\", \"#FFFEA3\", \"#B9F2F0\"]\n",
       "            );\n",
       "</script>\n"
      ],
      "text/plain": [
       "<IPython.core.display.HTML object>"
      ]
     },
     "metadata": {},
     "output_type": "display_data"
    }
   ],
   "source": [
    "import doodl\n",
    "import pandas as pd\n",
    "\n",
    "df = pd.DataFrame([\n",
    "    {'name': 'A', 'size': 12},\n",
    "    {'name': 'B', 'size': 12},\n",
    "    {'name': 'C', 'size': 12},\n",
    "    {'name': 'A&B', 'size': 2},\n",
    "    {'name': 'A&C', 'size': 3},\n",
    "    {'name': 'B&C', 'size': 4},\n",
    "    {'name': 'A&B&C', 'size': 1}])\n",
    "\n",
    "doodl.vennchart(data=df)"
   ]
  },
  {
   "cell_type": "code",
   "execution_count": null,
   "id": "4704dd5e-6c4f-4f74-8b31-ccca9f6ad82b",
   "metadata": {},
   "outputs": [],
   "source": []
  }
 ],
 "metadata": {
  "kernelspec": {
   "display_name": "Python 3 (ipykernel)",
   "language": "python",
   "name": "python3"
  },
  "language_info": {
   "codemirror_mode": {
    "name": "ipython",
    "version": 3
   },
   "file_extension": ".py",
   "mimetype": "text/x-python",
   "name": "python",
   "nbconvert_exporter": "python",
   "pygments_lexer": "ipython3",
   "version": "3.12.3"
  }
 },
 "nbformat": 4,
 "nbformat_minor": 5
}
